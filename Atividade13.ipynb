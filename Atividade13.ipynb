{
  "cells": [
    {
      "cell_type": "code",
      "execution_count": 2,
      "metadata": {
        "id": "I5jY_DhQI5iQ"
      },
      "outputs": [],
      "source": [
        "import pandas as pd\n",
        "import numpy as np\n",
        "from scipy import stats"
      ]
    },
    {
      "cell_type": "code",
      "execution_count": 3,
      "metadata": {
        "id": "onmyV-7FJGjo"
      },
      "outputs": [],
      "source": [
        "dados1 = pd.read_csv(\"dados1.csv\")"
      ]
    },
    {
      "cell_type": "code",
      "execution_count": 4,
      "metadata": {
        "id": "hEF2dJmfJR53"
      },
      "outputs": [],
      "source": [
        "dados1['data'] = pd.to_datetime(dados1['data'])"
      ]
    },
    {
      "cell_type": "code",
      "execution_count": 5,
      "metadata": {
        "colab": {
          "base_uri": "https://localhost:8080/"
        },
        "id": "OTHSO3y2Jybm",
        "outputId": "2d90fc8d-6832-4980-8191-5a7570c61eb1"
      },
      "outputs": [
        {
          "data": {
            "text/plain": [
              "268   2019-08-06\n",
              "494   2019-08-12\n",
              "926   2019-08-13\n",
              "648   2019-08-15\n",
              "29    2019-08-16\n",
              "         ...    \n",
              "822          NaT\n",
              "859          NaT\n",
              "909          NaT\n",
              "978          NaT\n",
              "986          NaT\n",
              "Name: data, Length: 1000, dtype: datetime64[ns]"
            ]
          },
          "execution_count": 5,
          "metadata": {},
          "output_type": "execute_result"
        }
      ],
      "source": [
        "dados1['data'].sort_values()"
      ]
    },
    {
      "cell_type": "code",
      "execution_count": 6,
      "metadata": {
        "colab": {
          "base_uri": "https://localhost:8080/",
          "height": 300
        },
        "id": "o5ZQDs2CKxi0",
        "outputId": "48cabecb-e684-4873-b67e-271b7c76ad9b"
      },
      "outputs": [
        {
          "data": {
            "text/html": [
              "<div>\n",
              "<style scoped>\n",
              "    .dataframe tbody tr th:only-of-type {\n",
              "        vertical-align: middle;\n",
              "    }\n",
              "\n",
              "    .dataframe tbody tr th {\n",
              "        vertical-align: top;\n",
              "    }\n",
              "\n",
              "    .dataframe thead th {\n",
              "        text-align: right;\n",
              "    }\n",
              "</style>\n",
              "<table border=\"1\" class=\"dataframe\">\n",
              "  <thead>\n",
              "    <tr style=\"text-align: right;\">\n",
              "      <th></th>\n",
              "      <th>id</th>\n",
              "      <th>valor</th>\n",
              "    </tr>\n",
              "  </thead>\n",
              "  <tbody>\n",
              "    <tr>\n",
              "      <th>count</th>\n",
              "      <td>1000.000000</td>\n",
              "      <td>963.000000</td>\n",
              "    </tr>\n",
              "    <tr>\n",
              "      <th>mean</th>\n",
              "      <td>500.500000</td>\n",
              "      <td>503.228453</td>\n",
              "    </tr>\n",
              "    <tr>\n",
              "      <th>std</th>\n",
              "      <td>288.819436</td>\n",
              "      <td>568.154416</td>\n",
              "    </tr>\n",
              "    <tr>\n",
              "      <th>min</th>\n",
              "      <td>1.000000</td>\n",
              "      <td>-500.000000</td>\n",
              "    </tr>\n",
              "    <tr>\n",
              "      <th>25%</th>\n",
              "      <td>250.750000</td>\n",
              "      <td>31.000000</td>\n",
              "    </tr>\n",
              "    <tr>\n",
              "      <th>50%</th>\n",
              "      <td>500.500000</td>\n",
              "      <td>521.000000</td>\n",
              "    </tr>\n",
              "    <tr>\n",
              "      <th>75%</th>\n",
              "      <td>750.250000</td>\n",
              "      <td>966.500000</td>\n",
              "    </tr>\n",
              "    <tr>\n",
              "      <th>max</th>\n",
              "      <td>1000.000000</td>\n",
              "      <td>1500.000000</td>\n",
              "    </tr>\n",
              "  </tbody>\n",
              "</table>\n",
              "</div>"
            ],
            "text/plain": [
              "                id        valor\n",
              "count  1000.000000   963.000000\n",
              "mean    500.500000   503.228453\n",
              "std     288.819436   568.154416\n",
              "min       1.000000  -500.000000\n",
              "25%     250.750000    31.000000\n",
              "50%     500.500000   521.000000\n",
              "75%     750.250000   966.500000\n",
              "max    1000.000000  1500.000000"
            ]
          },
          "execution_count": 6,
          "metadata": {},
          "output_type": "execute_result"
        }
      ],
      "source": [
        "dados1.describe()"
      ]
    },
    {
      "cell_type": "code",
      "execution_count": 7,
      "metadata": {
        "colab": {
          "base_uri": "https://localhost:8080/"
        },
        "id": "PgpH1pO6K4iQ",
        "outputId": "089fd47e-b6a7-4574-b67e-49b678b44939"
      },
      "outputs": [
        {
          "data": {
            "text/plain": [
              "(1000, 3)"
            ]
          },
          "execution_count": 7,
          "metadata": {},
          "output_type": "execute_result"
        }
      ],
      "source": [
        "dados1.shape"
      ]
    },
    {
      "cell_type": "code",
      "execution_count": 8,
      "metadata": {
        "colab": {
          "base_uri": "https://localhost:8080/",
          "height": 424
        },
        "id": "eVbNbXgfLPUb",
        "outputId": "ab4af067-0c56-442a-e748-e9c079fcde30"
      },
      "outputs": [
        {
          "data": {
            "text/html": [
              "<div>\n",
              "<style scoped>\n",
              "    .dataframe tbody tr th:only-of-type {\n",
              "        vertical-align: middle;\n",
              "    }\n",
              "\n",
              "    .dataframe tbody tr th {\n",
              "        vertical-align: top;\n",
              "    }\n",
              "\n",
              "    .dataframe thead th {\n",
              "        text-align: right;\n",
              "    }\n",
              "</style>\n",
              "<table border=\"1\" class=\"dataframe\">\n",
              "  <thead>\n",
              "    <tr style=\"text-align: right;\">\n",
              "      <th></th>\n",
              "      <th>id</th>\n",
              "      <th>data</th>\n",
              "      <th>valor</th>\n",
              "    </tr>\n",
              "  </thead>\n",
              "  <tbody>\n",
              "    <tr>\n",
              "      <th>268</th>\n",
              "      <td>269</td>\n",
              "      <td>2019-08-06</td>\n",
              "      <td>969.0</td>\n",
              "    </tr>\n",
              "    <tr>\n",
              "      <th>494</th>\n",
              "      <td>495</td>\n",
              "      <td>2019-08-12</td>\n",
              "      <td>817.0</td>\n",
              "    </tr>\n",
              "    <tr>\n",
              "      <th>926</th>\n",
              "      <td>927</td>\n",
              "      <td>2019-08-13</td>\n",
              "      <td>354.0</td>\n",
              "    </tr>\n",
              "    <tr>\n",
              "      <th>648</th>\n",
              "      <td>649</td>\n",
              "      <td>2019-08-15</td>\n",
              "      <td>441.0</td>\n",
              "    </tr>\n",
              "    <tr>\n",
              "      <th>29</th>\n",
              "      <td>30</td>\n",
              "      <td>2019-08-16</td>\n",
              "      <td>1488.0</td>\n",
              "    </tr>\n",
              "    <tr>\n",
              "      <th>...</th>\n",
              "      <td>...</td>\n",
              "      <td>...</td>\n",
              "      <td>...</td>\n",
              "    </tr>\n",
              "    <tr>\n",
              "      <th>822</th>\n",
              "      <td>823</td>\n",
              "      <td>NaT</td>\n",
              "      <td>60.0</td>\n",
              "    </tr>\n",
              "    <tr>\n",
              "      <th>859</th>\n",
              "      <td>860</td>\n",
              "      <td>NaT</td>\n",
              "      <td>821.0</td>\n",
              "    </tr>\n",
              "    <tr>\n",
              "      <th>909</th>\n",
              "      <td>910</td>\n",
              "      <td>NaT</td>\n",
              "      <td>568.0</td>\n",
              "    </tr>\n",
              "    <tr>\n",
              "      <th>978</th>\n",
              "      <td>979</td>\n",
              "      <td>NaT</td>\n",
              "      <td>834.0</td>\n",
              "    </tr>\n",
              "    <tr>\n",
              "      <th>986</th>\n",
              "      <td>987</td>\n",
              "      <td>NaT</td>\n",
              "      <td>771.0</td>\n",
              "    </tr>\n",
              "  </tbody>\n",
              "</table>\n",
              "<p>1000 rows × 3 columns</p>\n",
              "</div>"
            ],
            "text/plain": [
              "      id       data   valor\n",
              "268  269 2019-08-06   969.0\n",
              "494  495 2019-08-12   817.0\n",
              "926  927 2019-08-13   354.0\n",
              "648  649 2019-08-15   441.0\n",
              "29    30 2019-08-16  1488.0\n",
              "..   ...        ...     ...\n",
              "822  823        NaT    60.0\n",
              "859  860        NaT   821.0\n",
              "909  910        NaT   568.0\n",
              "978  979        NaT   834.0\n",
              "986  987        NaT   771.0\n",
              "\n",
              "[1000 rows x 3 columns]"
            ]
          },
          "execution_count": 8,
          "metadata": {},
          "output_type": "execute_result"
        }
      ],
      "source": [
        "dados1.sort_values('data')"
      ]
    },
    {
      "cell_type": "code",
      "execution_count": 9,
      "metadata": {
        "id": "01x8OZJGLpf6"
      },
      "outputs": [],
      "source": [
        "dados2 = pd.read_csv('dados2.csv')"
      ]
    },
    {
      "cell_type": "code",
      "execution_count": 10,
      "metadata": {
        "colab": {
          "base_uri": "https://localhost:8080/"
        },
        "id": "nQW_tVj2M27C",
        "outputId": "7980d13c-131f-4c9b-c1b8-0cc14b489be5"
      },
      "outputs": [
        {
          "data": {
            "text/plain": [
              "id        0\n",
              "data     26\n",
              "valor    37\n",
              "dtype: int64"
            ]
          },
          "execution_count": 10,
          "metadata": {},
          "output_type": "execute_result"
        }
      ],
      "source": [
        "dados1.isnull().sum()"
      ]
    },
    {
      "cell_type": "code",
      "execution_count": 11,
      "metadata": {
        "colab": {
          "base_uri": "https://localhost:8080/"
        },
        "id": "3Q0HXhdtNbuK",
        "outputId": "287842c1-6b55-49bf-acc7-b118619eaa3a"
      },
      "outputs": [
        {
          "data": {
            "text/plain": [
              "(1000, 3)"
            ]
          },
          "execution_count": 11,
          "metadata": {},
          "output_type": "execute_result"
        }
      ],
      "source": [
        "dados1.shape"
      ]
    },
    {
      "cell_type": "code",
      "execution_count": 12,
      "metadata": {
        "id": "ygux1HeSN8Hz"
      },
      "outputs": [],
      "source": [
        "dados = pd.concat([dados1, dados2])"
      ]
    },
    {
      "cell_type": "code",
      "execution_count": 13,
      "metadata": {
        "id": "kS-oP39oPOjO"
      },
      "outputs": [],
      "source": [
        "dados['data'] = dados['data'].apply(pd.to_datetime)"
      ]
    },
    {
      "cell_type": "code",
      "execution_count": 14,
      "metadata": {
        "colab": {
          "base_uri": "https://localhost:8080/",
          "height": 424
        },
        "id": "Fete7aNQQV02",
        "outputId": "8d2f1a3c-283f-4d66-8462-b8ffed548fc8"
      },
      "outputs": [
        {
          "data": {
            "text/html": [
              "<div>\n",
              "<style scoped>\n",
              "    .dataframe tbody tr th:only-of-type {\n",
              "        vertical-align: middle;\n",
              "    }\n",
              "\n",
              "    .dataframe tbody tr th {\n",
              "        vertical-align: top;\n",
              "    }\n",
              "\n",
              "    .dataframe thead th {\n",
              "        text-align: right;\n",
              "    }\n",
              "</style>\n",
              "<table border=\"1\" class=\"dataframe\">\n",
              "  <thead>\n",
              "    <tr style=\"text-align: right;\">\n",
              "      <th></th>\n",
              "      <th>id</th>\n",
              "      <th>data</th>\n",
              "      <th>valor</th>\n",
              "    </tr>\n",
              "  </thead>\n",
              "  <tbody>\n",
              "    <tr>\n",
              "      <th>0</th>\n",
              "      <td>1</td>\n",
              "      <td>2021-11-23</td>\n",
              "      <td>923.0</td>\n",
              "    </tr>\n",
              "    <tr>\n",
              "      <th>1</th>\n",
              "      <td>2</td>\n",
              "      <td>2021-02-15</td>\n",
              "      <td>309.0</td>\n",
              "    </tr>\n",
              "    <tr>\n",
              "      <th>2</th>\n",
              "      <td>3</td>\n",
              "      <td>2021-05-08</td>\n",
              "      <td>702.0</td>\n",
              "    </tr>\n",
              "    <tr>\n",
              "      <th>3</th>\n",
              "      <td>4</td>\n",
              "      <td>2019-09-26</td>\n",
              "      <td>1088.0</td>\n",
              "    </tr>\n",
              "    <tr>\n",
              "      <th>4</th>\n",
              "      <td>5</td>\n",
              "      <td>2021-04-06</td>\n",
              "      <td>1022.0</td>\n",
              "    </tr>\n",
              "    <tr>\n",
              "      <th>...</th>\n",
              "      <td>...</td>\n",
              "      <td>...</td>\n",
              "      <td>...</td>\n",
              "    </tr>\n",
              "    <tr>\n",
              "      <th>995</th>\n",
              "      <td>996</td>\n",
              "      <td>2020-11-26</td>\n",
              "      <td>1242.0</td>\n",
              "    </tr>\n",
              "    <tr>\n",
              "      <th>996</th>\n",
              "      <td>997</td>\n",
              "      <td>2020-02-19</td>\n",
              "      <td>-307.0</td>\n",
              "    </tr>\n",
              "    <tr>\n",
              "      <th>997</th>\n",
              "      <td>998</td>\n",
              "      <td>2020-01-05</td>\n",
              "      <td>480.0</td>\n",
              "    </tr>\n",
              "    <tr>\n",
              "      <th>998</th>\n",
              "      <td>999</td>\n",
              "      <td>2020-03-24</td>\n",
              "      <td>348.0</td>\n",
              "    </tr>\n",
              "    <tr>\n",
              "      <th>999</th>\n",
              "      <td>1000</td>\n",
              "      <td>2020-12-03</td>\n",
              "      <td>998.0</td>\n",
              "    </tr>\n",
              "  </tbody>\n",
              "</table>\n",
              "<p>2000 rows × 3 columns</p>\n",
              "</div>"
            ],
            "text/plain": [
              "       id       data   valor\n",
              "0       1 2021-11-23   923.0\n",
              "1       2 2021-02-15   309.0\n",
              "2       3 2021-05-08   702.0\n",
              "3       4 2019-09-26  1088.0\n",
              "4       5 2021-04-06  1022.0\n",
              "..    ...        ...     ...\n",
              "995   996 2020-11-26  1242.0\n",
              "996   997 2020-02-19  -307.0\n",
              "997   998 2020-01-05   480.0\n",
              "998   999 2020-03-24   348.0\n",
              "999  1000 2020-12-03   998.0\n",
              "\n",
              "[2000 rows x 3 columns]"
            ]
          },
          "execution_count": 14,
          "metadata": {},
          "output_type": "execute_result"
        }
      ],
      "source": [
        "dados"
      ]
    },
    {
      "cell_type": "code",
      "execution_count": 15,
      "metadata": {
        "colab": {
          "base_uri": "https://localhost:8080/"
        },
        "id": "Z7GySmFiQyBO",
        "outputId": "1267179a-5a7b-489e-805e-99c6d05354da"
      },
      "outputs": [
        {
          "data": {
            "text/plain": [
              "id        0\n",
              "data     48\n",
              "valor    80\n",
              "dtype: int64"
            ]
          },
          "execution_count": 15,
          "metadata": {},
          "output_type": "execute_result"
        }
      ],
      "source": [
        "dados.isnull().sum()"
      ]
    },
    {
      "cell_type": "code",
      "execution_count": 16,
      "metadata": {
        "id": "vm1I49I4Q3VV"
      },
      "outputs": [],
      "source": [
        "dados.dropna(inplace=True)"
      ]
    },
    {
      "cell_type": "code",
      "execution_count": 17,
      "metadata": {
        "colab": {
          "base_uri": "https://localhost:8080/"
        },
        "id": "b1cUkgctQ9dV",
        "outputId": "c58477c2-51cc-4824-f401-1e27bdb18cc7"
      },
      "outputs": [
        {
          "data": {
            "text/plain": [
              "id       0\n",
              "data     0\n",
              "valor    0\n",
              "dtype: int64"
            ]
          },
          "execution_count": 17,
          "metadata": {},
          "output_type": "execute_result"
        }
      ],
      "source": [
        "dados.isnull().sum()"
      ]
    },
    {
      "cell_type": "code",
      "execution_count": 18,
      "metadata": {
        "id": "QrnY2X5RRBJ1"
      },
      "outputs": [],
      "source": [
        "dados = dados.sort_values('data')"
      ]
    },
    {
      "cell_type": "code",
      "execution_count": 19,
      "metadata": {
        "id": "T1ddVsWfTiEA"
      },
      "outputs": [],
      "source": [
        "tam_array = int(np.around(dados.shape[0]/50))"
      ]
    },
    {
      "cell_type": "code",
      "execution_count": 20,
      "metadata": {
        "id": "risVBpkwTXHr"
      },
      "outputs": [],
      "source": [
        "medias = np.zeros(tam_array)\n",
        "mediana = np.zeros(tam_array)\n",
        "desvio = np.zeros(tam_array)\n",
        "moda = np.zeros(tam_array)\n",
        "max = np.zeros(tam_array)\n",
        "min = np.zeros(tam_array)\n",
        "data_inicial = np.empty(tam_array, dtype='object')\n",
        "data_final = np.empty(tam_array, dtype='object')"
      ]
    },
    {
      "cell_type": "code",
      "execution_count": 21,
      "metadata": {
        "id": "gvewHLlLRSZ9"
      },
      "outputs": [],
      "source": [
        "#extraindo as informacoes em blocos de 50\n",
        "j = 0\n",
        "k = 0\n",
        "for i in range(50, dados.shape[0], 50):\n",
        "    medias[k] = dados['valor'].iloc[j:i].mean()\n",
        "    mediana[k] = dados['valor'].iloc[j:i].median()\n",
        "    desvio[k] = dados['valor'].iloc[j:i].std()\n",
        "    moda[k] = stats.mode(dados['valor'].iloc[j:i])[0]\n",
        "    max[k] = dados['valor'].iloc[j:i].max()\n",
        "    min[k] = dados['valor'].iloc[j:i].min()\n",
        "    k = k + 1\n",
        "    j += 50\n"
      ]
    },
    {
      "cell_type": "code",
      "execution_count": 22,
      "metadata": {
        "id": "fjUKq9cjdyw1"
      },
      "outputs": [],
      "source": [
        "#Adicionando as medias no dataframe dados\n",
        "# j = 0\n",
        "# k= 0 \n",
        "# for i in range(50, dados.shape[0], 50):\n",
        "#   dados['media'][j:i] = medias[k]\n",
        "#   k += 1\n",
        "#   j += 50"
      ]
    },
    {
      "cell_type": "code",
      "execution_count": 23,
      "metadata": {
        "colab": {
          "base_uri": "https://localhost:8080/",
          "height": 112
        },
        "id": "2pBPLFLVnylv",
        "outputId": "2621fb05-aa74-4f52-db6f-e364d52aa614"
      },
      "outputs": [
        {
          "data": {
            "text/html": [
              "<div>\n",
              "<style scoped>\n",
              "    .dataframe tbody tr th:only-of-type {\n",
              "        vertical-align: middle;\n",
              "    }\n",
              "\n",
              "    .dataframe tbody tr th {\n",
              "        vertical-align: top;\n",
              "    }\n",
              "\n",
              "    .dataframe thead th {\n",
              "        text-align: right;\n",
              "    }\n",
              "</style>\n",
              "<table border=\"1\" class=\"dataframe\">\n",
              "  <thead>\n",
              "    <tr style=\"text-align: right;\">\n",
              "      <th></th>\n",
              "      <th>id</th>\n",
              "      <th>data</th>\n",
              "      <th>valor</th>\n",
              "    </tr>\n",
              "  </thead>\n",
              "  <tbody>\n",
              "    <tr>\n",
              "      <th>989</th>\n",
              "      <td>990</td>\n",
              "      <td>2019-09-01</td>\n",
              "      <td>1024.0</td>\n",
              "    </tr>\n",
              "    <tr>\n",
              "      <th>578</th>\n",
              "      <td>579</td>\n",
              "      <td>2019-09-01</td>\n",
              "      <td>-243.0</td>\n",
              "    </tr>\n",
              "  </tbody>\n",
              "</table>\n",
              "</div>"
            ],
            "text/plain": [
              "      id       data   valor\n",
              "989  990 2019-09-01  1024.0\n",
              "578  579 2019-09-01  -243.0"
            ]
          },
          "execution_count": 23,
          "metadata": {},
          "output_type": "execute_result"
        }
      ],
      "source": [
        "dados[49:51]"
      ]
    },
    {
      "cell_type": "code",
      "execution_count": 24,
      "metadata": {
        "colab": {
          "base_uri": "https://localhost:8080/"
        },
        "id": "sRwqWKECnjbs",
        "outputId": "ef3878d6-21a9-40d7-d5d6-42aa97753982"
      },
      "outputs": [
        {
          "data": {
            "text/plain": [
              "(Timestamp('2019-08-06 00:00:00'), Timestamp('2019-09-01 00:00:00'))"
            ]
          },
          "execution_count": 24,
          "metadata": {},
          "output_type": "execute_result"
        }
      ],
      "source": [
        "dados[0:50].iloc[0]['data'], dados[0:50].iloc[-1]['data']"
      ]
    },
    {
      "cell_type": "code",
      "execution_count": 25,
      "metadata": {
        "id": "QAXcY2zLWg_w"
      },
      "outputs": [],
      "source": [
        "j = 0\n",
        "k = 0\n",
        "for i in range(50, dados.shape[0], 50):\n",
        "  data_inicial[k] = str(dados[j:i].iloc[0]['data'])\n",
        "  k += 1\n",
        "  j += 50"
      ]
    },
    {
      "cell_type": "code",
      "execution_count": 26,
      "metadata": {
        "id": "-Rqj8Cy8leZA"
      },
      "outputs": [],
      "source": [
        "j = 0\n",
        "k = 0\n",
        "for i in range(50, dados.shape[0], 50):\n",
        "  data_final[k] = str(dados[j:i+1].iloc[-1]['data'])\n",
        "  k += 1\n",
        "  j += 50"
      ]
    },
    {
      "cell_type": "code",
      "execution_count": 31,
      "metadata": {},
      "outputs": [
        {
          "name": "stdout",
          "output_type": "stream",
          "text": [
            "['Bloco 1', 'Bloco 2', 'Bloco 3', 'Bloco 4', 'Bloco 5', 'Bloco 6', 'Bloco 7', 'Bloco 8', 'Bloco 9', 'Bloco 10', 'Bloco 11', 'Bloco 12', 'Bloco 13', 'Bloco 14', 'Bloco 15', 'Bloco 16', 'Bloco 17', 'Bloco 18', 'Bloco 19', 'Bloco 20', 'Bloco 21', 'Bloco 22', 'Bloco 23', 'Bloco 24', 'Bloco 25', 'Bloco 26', 'Bloco 27', 'Bloco 28', 'Bloco 29', 'Bloco 30', 'Bloco 31', 'Bloco 32', 'Bloco 33', 'Bloco 34', 'Bloco 35', 'Bloco 36', 'Bloco 37']\n"
          ]
        }
      ],
      "source": [
        "lista_nomes = []\n",
        "for n in range(0, tam_array):\n",
        "    lista_nomes.append(f\"Bloco {n+1}\")\n",
        "print(lista_nomes)"
      ]
    },
    {
      "cell_type": "code",
      "execution_count": 35,
      "metadata": {
        "id": "8khVShbMZuyF"
      },
      "outputs": [],
      "source": [
        "dados_finais = pd.DataFrame(list(zip(lista_nomes, medias, mediana, desvio, moda, max, min, data_inicial, data_final)), \n",
        "                          columns=[\"Numero do bloco\",\"Médias\", \"Mediana\", \"Desvio\", \"Moda\", \"Valor Máximo\", \"Valor Mínimo\", \"Data Inicial\", \"Data Final\"])"
      ]
    },
    {
      "cell_type": "code",
      "execution_count": 36,
      "metadata": {
        "colab": {
          "base_uri": "https://localhost:8080/",
          "height": 1000
        },
        "id": "hvd44H19iw26",
        "outputId": "180cac26-d77d-44ed-8c28-238b735e740f"
      },
      "outputs": [
        {
          "data": {
            "text/html": [
              "<div>\n",
              "<style scoped>\n",
              "    .dataframe tbody tr th:only-of-type {\n",
              "        vertical-align: middle;\n",
              "    }\n",
              "\n",
              "    .dataframe tbody tr th {\n",
              "        vertical-align: top;\n",
              "    }\n",
              "\n",
              "    .dataframe thead th {\n",
              "        text-align: right;\n",
              "    }\n",
              "</style>\n",
              "<table border=\"1\" class=\"dataframe\">\n",
              "  <thead>\n",
              "    <tr style=\"text-align: right;\">\n",
              "      <th></th>\n",
              "      <th>Numero do bloco</th>\n",
              "      <th>Médias</th>\n",
              "      <th>Mediana</th>\n",
              "      <th>Desvio</th>\n",
              "      <th>Moda</th>\n",
              "      <th>Valor Máximo</th>\n",
              "      <th>Valor Mínimo</th>\n",
              "      <th>Data Inicial</th>\n",
              "      <th>Data Final</th>\n",
              "    </tr>\n",
              "  </thead>\n",
              "  <tbody>\n",
              "    <tr>\n",
              "      <th>0</th>\n",
              "      <td>Bloco 1</td>\n",
              "      <td>645.76</td>\n",
              "      <td>828.5</td>\n",
              "      <td>603.227495</td>\n",
              "      <td>-500.0</td>\n",
              "      <td>1488.0</td>\n",
              "      <td>-500.0</td>\n",
              "      <td>2019-08-06 00:00:00</td>\n",
              "      <td>2019-09-01 00:00:00</td>\n",
              "    </tr>\n",
              "    <tr>\n",
              "      <th>1</th>\n",
              "      <td>Bloco 2</td>\n",
              "      <td>338.40</td>\n",
              "      <td>237.0</td>\n",
              "      <td>584.233704</td>\n",
              "      <td>-487.0</td>\n",
              "      <td>1448.0</td>\n",
              "      <td>-487.0</td>\n",
              "      <td>2019-09-01 00:00:00</td>\n",
              "      <td>2019-09-22 00:00:00</td>\n",
              "    </tr>\n",
              "    <tr>\n",
              "      <th>2</th>\n",
              "      <td>Bloco 3</td>\n",
              "      <td>507.00</td>\n",
              "      <td>628.0</td>\n",
              "      <td>617.931342</td>\n",
              "      <td>-476.0</td>\n",
              "      <td>1458.0</td>\n",
              "      <td>-476.0</td>\n",
              "      <td>2019-09-22 00:00:00</td>\n",
              "      <td>2019-10-11 00:00:00</td>\n",
              "    </tr>\n",
              "    <tr>\n",
              "      <th>3</th>\n",
              "      <td>Bloco 4</td>\n",
              "      <td>406.50</td>\n",
              "      <td>415.5</td>\n",
              "      <td>562.691573</td>\n",
              "      <td>-491.0</td>\n",
              "      <td>1441.0</td>\n",
              "      <td>-491.0</td>\n",
              "      <td>2019-10-11 00:00:00</td>\n",
              "      <td>2019-11-06 00:00:00</td>\n",
              "    </tr>\n",
              "    <tr>\n",
              "      <th>4</th>\n",
              "      <td>Bloco 5</td>\n",
              "      <td>604.82</td>\n",
              "      <td>640.5</td>\n",
              "      <td>572.578154</td>\n",
              "      <td>-425.0</td>\n",
              "      <td>1489.0</td>\n",
              "      <td>-425.0</td>\n",
              "      <td>2019-11-06 00:00:00</td>\n",
              "      <td>2019-11-25 00:00:00</td>\n",
              "    </tr>\n",
              "    <tr>\n",
              "      <th>5</th>\n",
              "      <td>Bloco 6</td>\n",
              "      <td>556.92</td>\n",
              "      <td>544.5</td>\n",
              "      <td>609.355526</td>\n",
              "      <td>-455.0</td>\n",
              "      <td>1491.0</td>\n",
              "      <td>-455.0</td>\n",
              "      <td>2019-11-25 00:00:00</td>\n",
              "      <td>2019-12-17 00:00:00</td>\n",
              "    </tr>\n",
              "    <tr>\n",
              "      <th>6</th>\n",
              "      <td>Bloco 7</td>\n",
              "      <td>567.64</td>\n",
              "      <td>522.0</td>\n",
              "      <td>581.423158</td>\n",
              "      <td>-429.0</td>\n",
              "      <td>1481.0</td>\n",
              "      <td>-429.0</td>\n",
              "      <td>2019-12-17 00:00:00</td>\n",
              "      <td>2020-01-10 00:00:00</td>\n",
              "    </tr>\n",
              "    <tr>\n",
              "      <th>7</th>\n",
              "      <td>Bloco 8</td>\n",
              "      <td>568.92</td>\n",
              "      <td>603.5</td>\n",
              "      <td>599.637640</td>\n",
              "      <td>-496.0</td>\n",
              "      <td>1497.0</td>\n",
              "      <td>-496.0</td>\n",
              "      <td>2020-01-10 00:00:00</td>\n",
              "      <td>2020-02-01 00:00:00</td>\n",
              "    </tr>\n",
              "    <tr>\n",
              "      <th>8</th>\n",
              "      <td>Bloco 9</td>\n",
              "      <td>461.30</td>\n",
              "      <td>429.5</td>\n",
              "      <td>527.581399</td>\n",
              "      <td>-423.0</td>\n",
              "      <td>1459.0</td>\n",
              "      <td>-423.0</td>\n",
              "      <td>2020-02-01 00:00:00</td>\n",
              "      <td>2020-02-28 00:00:00</td>\n",
              "    </tr>\n",
              "    <tr>\n",
              "      <th>9</th>\n",
              "      <td>Bloco 10</td>\n",
              "      <td>487.62</td>\n",
              "      <td>472.5</td>\n",
              "      <td>574.803565</td>\n",
              "      <td>-42.0</td>\n",
              "      <td>1500.0</td>\n",
              "      <td>-415.0</td>\n",
              "      <td>2020-02-28 00:00:00</td>\n",
              "      <td>2020-03-24 00:00:00</td>\n",
              "    </tr>\n",
              "    <tr>\n",
              "      <th>10</th>\n",
              "      <td>Bloco 11</td>\n",
              "      <td>512.70</td>\n",
              "      <td>670.0</td>\n",
              "      <td>557.948694</td>\n",
              "      <td>-498.0</td>\n",
              "      <td>1481.0</td>\n",
              "      <td>-498.0</td>\n",
              "      <td>2020-03-24 00:00:00</td>\n",
              "      <td>2020-04-16 00:00:00</td>\n",
              "    </tr>\n",
              "    <tr>\n",
              "      <th>11</th>\n",
              "      <td>Bloco 12</td>\n",
              "      <td>329.10</td>\n",
              "      <td>206.5</td>\n",
              "      <td>565.224508</td>\n",
              "      <td>-466.0</td>\n",
              "      <td>1396.0</td>\n",
              "      <td>-466.0</td>\n",
              "      <td>2020-04-16 00:00:00</td>\n",
              "      <td>2020-05-06 00:00:00</td>\n",
              "    </tr>\n",
              "    <tr>\n",
              "      <th>12</th>\n",
              "      <td>Bloco 13</td>\n",
              "      <td>491.26</td>\n",
              "      <td>486.5</td>\n",
              "      <td>588.463472</td>\n",
              "      <td>-360.0</td>\n",
              "      <td>1465.0</td>\n",
              "      <td>-488.0</td>\n",
              "      <td>2020-05-06 00:00:00</td>\n",
              "      <td>2020-05-23 00:00:00</td>\n",
              "    </tr>\n",
              "    <tr>\n",
              "      <th>13</th>\n",
              "      <td>Bloco 14</td>\n",
              "      <td>635.62</td>\n",
              "      <td>650.5</td>\n",
              "      <td>538.312893</td>\n",
              "      <td>606.0</td>\n",
              "      <td>1497.0</td>\n",
              "      <td>-493.0</td>\n",
              "      <td>2020-05-23 00:00:00</td>\n",
              "      <td>2020-06-11 00:00:00</td>\n",
              "    </tr>\n",
              "    <tr>\n",
              "      <th>14</th>\n",
              "      <td>Bloco 15</td>\n",
              "      <td>573.64</td>\n",
              "      <td>596.5</td>\n",
              "      <td>569.110576</td>\n",
              "      <td>-493.0</td>\n",
              "      <td>1490.0</td>\n",
              "      <td>-493.0</td>\n",
              "      <td>2020-06-11 00:00:00</td>\n",
              "      <td>2020-07-07 00:00:00</td>\n",
              "    </tr>\n",
              "    <tr>\n",
              "      <th>15</th>\n",
              "      <td>Bloco 16</td>\n",
              "      <td>500.94</td>\n",
              "      <td>539.0</td>\n",
              "      <td>595.208021</td>\n",
              "      <td>-448.0</td>\n",
              "      <td>1429.0</td>\n",
              "      <td>-448.0</td>\n",
              "      <td>2020-07-07 00:00:00</td>\n",
              "      <td>2020-07-29 00:00:00</td>\n",
              "    </tr>\n",
              "    <tr>\n",
              "      <th>16</th>\n",
              "      <td>Bloco 17</td>\n",
              "      <td>536.86</td>\n",
              "      <td>608.5</td>\n",
              "      <td>515.366365</td>\n",
              "      <td>-369.0</td>\n",
              "      <td>1455.0</td>\n",
              "      <td>-369.0</td>\n",
              "      <td>2020-07-29 00:00:00</td>\n",
              "      <td>2020-08-18 00:00:00</td>\n",
              "    </tr>\n",
              "    <tr>\n",
              "      <th>17</th>\n",
              "      <td>Bloco 18</td>\n",
              "      <td>391.94</td>\n",
              "      <td>251.0</td>\n",
              "      <td>604.154745</td>\n",
              "      <td>-325.0</td>\n",
              "      <td>1493.0</td>\n",
              "      <td>-454.0</td>\n",
              "      <td>2020-08-18 00:00:00</td>\n",
              "      <td>2020-09-05 00:00:00</td>\n",
              "    </tr>\n",
              "    <tr>\n",
              "      <th>18</th>\n",
              "      <td>Bloco 19</td>\n",
              "      <td>497.06</td>\n",
              "      <td>389.5</td>\n",
              "      <td>584.064066</td>\n",
              "      <td>153.0</td>\n",
              "      <td>1495.0</td>\n",
              "      <td>-447.0</td>\n",
              "      <td>2020-09-05 00:00:00</td>\n",
              "      <td>2020-10-05 00:00:00</td>\n",
              "    </tr>\n",
              "    <tr>\n",
              "      <th>19</th>\n",
              "      <td>Bloco 20</td>\n",
              "      <td>512.92</td>\n",
              "      <td>730.0</td>\n",
              "      <td>576.550999</td>\n",
              "      <td>1371.0</td>\n",
              "      <td>1371.0</td>\n",
              "      <td>-461.0</td>\n",
              "      <td>2020-10-05 00:00:00</td>\n",
              "      <td>2020-10-26 00:00:00</td>\n",
              "    </tr>\n",
              "    <tr>\n",
              "      <th>20</th>\n",
              "      <td>Bloco 21</td>\n",
              "      <td>501.00</td>\n",
              "      <td>494.0</td>\n",
              "      <td>597.371658</td>\n",
              "      <td>424.0</td>\n",
              "      <td>1493.0</td>\n",
              "      <td>-486.0</td>\n",
              "      <td>2020-10-26 00:00:00</td>\n",
              "      <td>2020-11-24 00:00:00</td>\n",
              "    </tr>\n",
              "    <tr>\n",
              "      <th>21</th>\n",
              "      <td>Bloco 22</td>\n",
              "      <td>491.42</td>\n",
              "      <td>697.0</td>\n",
              "      <td>601.756242</td>\n",
              "      <td>-490.0</td>\n",
              "      <td>1487.0</td>\n",
              "      <td>-490.0</td>\n",
              "      <td>2020-11-24 00:00:00</td>\n",
              "      <td>2020-12-15 00:00:00</td>\n",
              "    </tr>\n",
              "    <tr>\n",
              "      <th>22</th>\n",
              "      <td>Bloco 23</td>\n",
              "      <td>468.60</td>\n",
              "      <td>469.0</td>\n",
              "      <td>509.614180</td>\n",
              "      <td>-498.0</td>\n",
              "      <td>1494.0</td>\n",
              "      <td>-498.0</td>\n",
              "      <td>2020-12-15 00:00:00</td>\n",
              "      <td>2021-01-08 00:00:00</td>\n",
              "    </tr>\n",
              "    <tr>\n",
              "      <th>23</th>\n",
              "      <td>Bloco 24</td>\n",
              "      <td>571.90</td>\n",
              "      <td>674.5</td>\n",
              "      <td>564.136119</td>\n",
              "      <td>689.0</td>\n",
              "      <td>1467.0</td>\n",
              "      <td>-478.0</td>\n",
              "      <td>2021-01-08 00:00:00</td>\n",
              "      <td>2021-01-28 00:00:00</td>\n",
              "    </tr>\n",
              "    <tr>\n",
              "      <th>24</th>\n",
              "      <td>Bloco 25</td>\n",
              "      <td>495.96</td>\n",
              "      <td>392.0</td>\n",
              "      <td>620.993442</td>\n",
              "      <td>-456.0</td>\n",
              "      <td>1500.0</td>\n",
              "      <td>-456.0</td>\n",
              "      <td>2021-01-28 00:00:00</td>\n",
              "      <td>2021-02-18 00:00:00</td>\n",
              "    </tr>\n",
              "    <tr>\n",
              "      <th>25</th>\n",
              "      <td>Bloco 26</td>\n",
              "      <td>488.00</td>\n",
              "      <td>506.5</td>\n",
              "      <td>559.113949</td>\n",
              "      <td>-492.0</td>\n",
              "      <td>1439.0</td>\n",
              "      <td>-492.0</td>\n",
              "      <td>2021-02-18 00:00:00</td>\n",
              "      <td>2021-03-11 00:00:00</td>\n",
              "    </tr>\n",
              "    <tr>\n",
              "      <th>26</th>\n",
              "      <td>Bloco 27</td>\n",
              "      <td>595.58</td>\n",
              "      <td>623.5</td>\n",
              "      <td>579.087145</td>\n",
              "      <td>225.0</td>\n",
              "      <td>1490.0</td>\n",
              "      <td>-382.0</td>\n",
              "      <td>2021-03-11 00:00:00</td>\n",
              "      <td>2021-04-07 00:00:00</td>\n",
              "    </tr>\n",
              "    <tr>\n",
              "      <th>27</th>\n",
              "      <td>Bloco 28</td>\n",
              "      <td>403.42</td>\n",
              "      <td>260.0</td>\n",
              "      <td>597.035058</td>\n",
              "      <td>-487.0</td>\n",
              "      <td>1453.0</td>\n",
              "      <td>-487.0</td>\n",
              "      <td>2021-04-07 00:00:00</td>\n",
              "      <td>2021-04-29 00:00:00</td>\n",
              "    </tr>\n",
              "    <tr>\n",
              "      <th>28</th>\n",
              "      <td>Bloco 29</td>\n",
              "      <td>631.46</td>\n",
              "      <td>676.0</td>\n",
              "      <td>552.048401</td>\n",
              "      <td>920.0</td>\n",
              "      <td>1470.0</td>\n",
              "      <td>-497.0</td>\n",
              "      <td>2021-04-29 00:00:00</td>\n",
              "      <td>2021-05-22 00:00:00</td>\n",
              "    </tr>\n",
              "    <tr>\n",
              "      <th>29</th>\n",
              "      <td>Bloco 30</td>\n",
              "      <td>519.06</td>\n",
              "      <td>578.0</td>\n",
              "      <td>585.298473</td>\n",
              "      <td>-478.0</td>\n",
              "      <td>1401.0</td>\n",
              "      <td>-478.0</td>\n",
              "      <td>2021-05-22 00:00:00</td>\n",
              "      <td>2021-06-10 00:00:00</td>\n",
              "    </tr>\n",
              "    <tr>\n",
              "      <th>30</th>\n",
              "      <td>Bloco 31</td>\n",
              "      <td>540.60</td>\n",
              "      <td>583.5</td>\n",
              "      <td>558.575813</td>\n",
              "      <td>55.0</td>\n",
              "      <td>1481.0</td>\n",
              "      <td>-489.0</td>\n",
              "      <td>2021-06-10 00:00:00</td>\n",
              "      <td>2021-06-28 00:00:00</td>\n",
              "    </tr>\n",
              "    <tr>\n",
              "      <th>31</th>\n",
              "      <td>Bloco 32</td>\n",
              "      <td>519.18</td>\n",
              "      <td>585.0</td>\n",
              "      <td>601.347592</td>\n",
              "      <td>-432.0</td>\n",
              "      <td>1470.0</td>\n",
              "      <td>-432.0</td>\n",
              "      <td>2021-06-28 00:00:00</td>\n",
              "      <td>2021-07-16 00:00:00</td>\n",
              "    </tr>\n",
              "    <tr>\n",
              "      <th>32</th>\n",
              "      <td>Bloco 33</td>\n",
              "      <td>455.54</td>\n",
              "      <td>330.0</td>\n",
              "      <td>568.565155</td>\n",
              "      <td>238.0</td>\n",
              "      <td>1454.0</td>\n",
              "      <td>-439.0</td>\n",
              "      <td>2021-07-16 00:00:00</td>\n",
              "      <td>2021-08-05 00:00:00</td>\n",
              "    </tr>\n",
              "    <tr>\n",
              "      <th>33</th>\n",
              "      <td>Bloco 34</td>\n",
              "      <td>535.84</td>\n",
              "      <td>533.5</td>\n",
              "      <td>577.320106</td>\n",
              "      <td>-468.0</td>\n",
              "      <td>1441.0</td>\n",
              "      <td>-468.0</td>\n",
              "      <td>2021-08-05 00:00:00</td>\n",
              "      <td>2021-09-05 00:00:00</td>\n",
              "    </tr>\n",
              "    <tr>\n",
              "      <th>34</th>\n",
              "      <td>Bloco 35</td>\n",
              "      <td>355.12</td>\n",
              "      <td>224.0</td>\n",
              "      <td>618.826297</td>\n",
              "      <td>-495.0</td>\n",
              "      <td>1444.0</td>\n",
              "      <td>-495.0</td>\n",
              "      <td>2021-09-05 00:00:00</td>\n",
              "      <td>2021-10-05 00:00:00</td>\n",
              "    </tr>\n",
              "    <tr>\n",
              "      <th>35</th>\n",
              "      <td>Bloco 36</td>\n",
              "      <td>606.38</td>\n",
              "      <td>686.0</td>\n",
              "      <td>591.403998</td>\n",
              "      <td>-459.0</td>\n",
              "      <td>1491.0</td>\n",
              "      <td>-459.0</td>\n",
              "      <td>2021-10-05 00:00:00</td>\n",
              "      <td>2021-10-30 00:00:00</td>\n",
              "    </tr>\n",
              "    <tr>\n",
              "      <th>36</th>\n",
              "      <td>Bloco 37</td>\n",
              "      <td>323.08</td>\n",
              "      <td>276.5</td>\n",
              "      <td>562.169734</td>\n",
              "      <td>-25.0</td>\n",
              "      <td>1452.0</td>\n",
              "      <td>-498.0</td>\n",
              "      <td>2021-10-30 00:00:00</td>\n",
              "      <td>2021-11-15 00:00:00</td>\n",
              "    </tr>\n",
              "  </tbody>\n",
              "</table>\n",
              "</div>"
            ],
            "text/plain": [
              "   Numero do bloco  Médias  Mediana      Desvio    Moda  Valor Máximo  \\\n",
              "0          Bloco 1  645.76    828.5  603.227495  -500.0        1488.0   \n",
              "1          Bloco 2  338.40    237.0  584.233704  -487.0        1448.0   \n",
              "2          Bloco 3  507.00    628.0  617.931342  -476.0        1458.0   \n",
              "3          Bloco 4  406.50    415.5  562.691573  -491.0        1441.0   \n",
              "4          Bloco 5  604.82    640.5  572.578154  -425.0        1489.0   \n",
              "5          Bloco 6  556.92    544.5  609.355526  -455.0        1491.0   \n",
              "6          Bloco 7  567.64    522.0  581.423158  -429.0        1481.0   \n",
              "7          Bloco 8  568.92    603.5  599.637640  -496.0        1497.0   \n",
              "8          Bloco 9  461.30    429.5  527.581399  -423.0        1459.0   \n",
              "9         Bloco 10  487.62    472.5  574.803565   -42.0        1500.0   \n",
              "10        Bloco 11  512.70    670.0  557.948694  -498.0        1481.0   \n",
              "11        Bloco 12  329.10    206.5  565.224508  -466.0        1396.0   \n",
              "12        Bloco 13  491.26    486.5  588.463472  -360.0        1465.0   \n",
              "13        Bloco 14  635.62    650.5  538.312893   606.0        1497.0   \n",
              "14        Bloco 15  573.64    596.5  569.110576  -493.0        1490.0   \n",
              "15        Bloco 16  500.94    539.0  595.208021  -448.0        1429.0   \n",
              "16        Bloco 17  536.86    608.5  515.366365  -369.0        1455.0   \n",
              "17        Bloco 18  391.94    251.0  604.154745  -325.0        1493.0   \n",
              "18        Bloco 19  497.06    389.5  584.064066   153.0        1495.0   \n",
              "19        Bloco 20  512.92    730.0  576.550999  1371.0        1371.0   \n",
              "20        Bloco 21  501.00    494.0  597.371658   424.0        1493.0   \n",
              "21        Bloco 22  491.42    697.0  601.756242  -490.0        1487.0   \n",
              "22        Bloco 23  468.60    469.0  509.614180  -498.0        1494.0   \n",
              "23        Bloco 24  571.90    674.5  564.136119   689.0        1467.0   \n",
              "24        Bloco 25  495.96    392.0  620.993442  -456.0        1500.0   \n",
              "25        Bloco 26  488.00    506.5  559.113949  -492.0        1439.0   \n",
              "26        Bloco 27  595.58    623.5  579.087145   225.0        1490.0   \n",
              "27        Bloco 28  403.42    260.0  597.035058  -487.0        1453.0   \n",
              "28        Bloco 29  631.46    676.0  552.048401   920.0        1470.0   \n",
              "29        Bloco 30  519.06    578.0  585.298473  -478.0        1401.0   \n",
              "30        Bloco 31  540.60    583.5  558.575813    55.0        1481.0   \n",
              "31        Bloco 32  519.18    585.0  601.347592  -432.0        1470.0   \n",
              "32        Bloco 33  455.54    330.0  568.565155   238.0        1454.0   \n",
              "33        Bloco 34  535.84    533.5  577.320106  -468.0        1441.0   \n",
              "34        Bloco 35  355.12    224.0  618.826297  -495.0        1444.0   \n",
              "35        Bloco 36  606.38    686.0  591.403998  -459.0        1491.0   \n",
              "36        Bloco 37  323.08    276.5  562.169734   -25.0        1452.0   \n",
              "\n",
              "    Valor Mínimo         Data Inicial           Data Final  \n",
              "0         -500.0  2019-08-06 00:00:00  2019-09-01 00:00:00  \n",
              "1         -487.0  2019-09-01 00:00:00  2019-09-22 00:00:00  \n",
              "2         -476.0  2019-09-22 00:00:00  2019-10-11 00:00:00  \n",
              "3         -491.0  2019-10-11 00:00:00  2019-11-06 00:00:00  \n",
              "4         -425.0  2019-11-06 00:00:00  2019-11-25 00:00:00  \n",
              "5         -455.0  2019-11-25 00:00:00  2019-12-17 00:00:00  \n",
              "6         -429.0  2019-12-17 00:00:00  2020-01-10 00:00:00  \n",
              "7         -496.0  2020-01-10 00:00:00  2020-02-01 00:00:00  \n",
              "8         -423.0  2020-02-01 00:00:00  2020-02-28 00:00:00  \n",
              "9         -415.0  2020-02-28 00:00:00  2020-03-24 00:00:00  \n",
              "10        -498.0  2020-03-24 00:00:00  2020-04-16 00:00:00  \n",
              "11        -466.0  2020-04-16 00:00:00  2020-05-06 00:00:00  \n",
              "12        -488.0  2020-05-06 00:00:00  2020-05-23 00:00:00  \n",
              "13        -493.0  2020-05-23 00:00:00  2020-06-11 00:00:00  \n",
              "14        -493.0  2020-06-11 00:00:00  2020-07-07 00:00:00  \n",
              "15        -448.0  2020-07-07 00:00:00  2020-07-29 00:00:00  \n",
              "16        -369.0  2020-07-29 00:00:00  2020-08-18 00:00:00  \n",
              "17        -454.0  2020-08-18 00:00:00  2020-09-05 00:00:00  \n",
              "18        -447.0  2020-09-05 00:00:00  2020-10-05 00:00:00  \n",
              "19        -461.0  2020-10-05 00:00:00  2020-10-26 00:00:00  \n",
              "20        -486.0  2020-10-26 00:00:00  2020-11-24 00:00:00  \n",
              "21        -490.0  2020-11-24 00:00:00  2020-12-15 00:00:00  \n",
              "22        -498.0  2020-12-15 00:00:00  2021-01-08 00:00:00  \n",
              "23        -478.0  2021-01-08 00:00:00  2021-01-28 00:00:00  \n",
              "24        -456.0  2021-01-28 00:00:00  2021-02-18 00:00:00  \n",
              "25        -492.0  2021-02-18 00:00:00  2021-03-11 00:00:00  \n",
              "26        -382.0  2021-03-11 00:00:00  2021-04-07 00:00:00  \n",
              "27        -487.0  2021-04-07 00:00:00  2021-04-29 00:00:00  \n",
              "28        -497.0  2021-04-29 00:00:00  2021-05-22 00:00:00  \n",
              "29        -478.0  2021-05-22 00:00:00  2021-06-10 00:00:00  \n",
              "30        -489.0  2021-06-10 00:00:00  2021-06-28 00:00:00  \n",
              "31        -432.0  2021-06-28 00:00:00  2021-07-16 00:00:00  \n",
              "32        -439.0  2021-07-16 00:00:00  2021-08-05 00:00:00  \n",
              "33        -468.0  2021-08-05 00:00:00  2021-09-05 00:00:00  \n",
              "34        -495.0  2021-09-05 00:00:00  2021-10-05 00:00:00  \n",
              "35        -459.0  2021-10-05 00:00:00  2021-10-30 00:00:00  \n",
              "36        -498.0  2021-10-30 00:00:00  2021-11-15 00:00:00  "
            ]
          },
          "execution_count": 36,
          "metadata": {},
          "output_type": "execute_result"
        }
      ],
      "source": [
        "dados_finais"
      ]
    }
  ],
  "metadata": {
    "colab": {
      "collapsed_sections": [],
      "name": "Cópia de Atividade13.ipynb",
      "provenance": [],
      "toc_visible": true
    },
    "kernelspec": {
      "display_name": "Python 3",
      "name": "python3"
    },
    "language_info": {
      "codemirror_mode": {
        "name": "ipython",
        "version": 3
      },
      "file_extension": ".py",
      "mimetype": "text/x-python",
      "name": "python",
      "nbconvert_exporter": "python",
      "pygments_lexer": "ipython3",
      "version": "3.10.0"
    }
  },
  "nbformat": 4,
  "nbformat_minor": 0
}
